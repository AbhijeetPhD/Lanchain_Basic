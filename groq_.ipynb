{
 "cells": [
  {
   "cell_type": "code",
   "execution_count": 3,
   "metadata": {},
   "outputs": [],
   "source": [
    "import langchain\n",
    "from dotenv import load_dotenv\n",
    "import os\n"
   ]
  },
  {
   "cell_type": "code",
   "execution_count": 4,
   "metadata": {},
   "outputs": [
    {
     "data": {
      "text/plain": [
       "True"
      ]
     },
     "execution_count": 4,
     "metadata": {},
     "output_type": "execute_result"
    }
   ],
   "source": [
    "load_dotenv()"
   ]
  },
  {
   "cell_type": "code",
   "execution_count": 7,
   "metadata": {},
   "outputs": [],
   "source": [
    "GROQ_API_KEY=os.environ.get(\"GROQ_API_KEY\")"
   ]
  },
  {
   "cell_type": "code",
   "execution_count": 9,
   "metadata": {},
   "outputs": [],
   "source": [
    "from langchain_groq import ChatGroq"
   ]
  },
  {
   "cell_type": "code",
   "execution_count": 15,
   "metadata": {},
   "outputs": [],
   "source": [
    "llm=ChatGroq(model=\"deepseek-r1-distill-qwen-32b\",temperature=0)"
   ]
  },
  {
   "cell_type": "code",
   "execution_count": 16,
   "metadata": {},
   "outputs": [
    {
     "data": {
      "text/plain": [
       "AIMessage(content='<think>\\n\\n</think>\\n\\nHello! How can I assist you today? 😊', additional_kwargs={}, response_metadata={'token_usage': {'completion_tokens': 16, 'prompt_tokens': 6, 'total_tokens': 22, 'completion_time': 0.114285714, 'prompt_time': 0.002835149, 'queue_time': 0.05257149, 'total_time': 0.117120863}, 'model_name': 'deepseek-r1-distill-qwen-32b', 'system_fingerprint': 'fp_d458a8aba5', 'finish_reason': 'stop', 'logprobs': None}, id='run-b25f44fc-6747-4edc-ab48-23caa442c0e1-0', usage_metadata={'input_tokens': 6, 'output_tokens': 16, 'total_tokens': 22})"
      ]
     },
     "execution_count": 16,
     "metadata": {},
     "output_type": "execute_result"
    }
   ],
   "source": [
    "llm.invoke(\"hi\")"
   ]
  },
  {
   "cell_type": "markdown",
   "metadata": {},
   "source": [
    "### Prompt template"
   ]
  },
  {
   "cell_type": "code",
   "execution_count": 36,
   "metadata": {},
   "outputs": [],
   "source": [
    "from langchain_core.prompts import PromptTemplate\n",
    "from langchain_core.output_parsers import StrOutputParser"
   ]
  },
  {
   "cell_type": "code",
   "execution_count": 32,
   "metadata": {},
   "outputs": [],
   "source": [
    "prompt=PromptTemplate.from_template(\"You are tallented AI giving accurate answer of {question} in only {laguage} and dont provide any information in english\")"
   ]
  },
  {
   "cell_type": "code",
   "execution_count": 33,
   "metadata": {},
   "outputs": [],
   "source": [
    "chain=prompt|llm"
   ]
  },
  {
   "cell_type": "code",
   "execution_count": 34,
   "metadata": {},
   "outputs": [],
   "source": [
    "response=chain.invoke({\"question\":\"where is china\", \"laguage\":\"Hindi\"})"
   ]
  },
  {
   "cell_type": "code",
   "execution_count": 37,
   "metadata": {},
   "outputs": [],
   "source": [
    "parser=StrOutputParser()"
   ]
  },
  {
   "cell_type": "code",
   "execution_count": 38,
   "metadata": {},
   "outputs": [
    {
     "data": {
      "text/plain": [
       "'<think>\\nOkay, so I need to figure out how to answer the question \"Where is China?\" in Hindi without providing any information in English. The user mentioned that I should be accurate and use only Hindi. Let me think about how to approach this.\\n\\nFirst, I should recall the geographical location of China. China is a country located in East Asia. It\\'s bordered by several countries like Russia, Mongolia, India, and North Korea. It\\'s also near the Pacific Ocean. Now, I need to translate this information into Hindi accurately.\\n\\nI should start by stating that China is in East Asia. In Hindi, \"East Asia\" is \"पूर्वी एशिया.\" So, the sentence would be \"चीन पूर्वी एशिया में स्थित है।\" That seems correct.\\n\\nNext, I can mention the neighboring countries. The main ones are Russia, Mongolia, India, and North Korea. In Hindi, these are \"रूस,\" \"मंगोलिया,\" \"भारत,\" and \"प्राचीन कोरिया\" respectively. So, I can say, \"यह रूस, मंगोलिया, भारत और प्राचीन कोरिया के साथ सीमा साधारण करता है।\"\\n\\nAdditionally, it\\'s good to mention the ocean it\\'s near. The Pacific Ocean is \"प्रशांत समुद्र\" in Hindi. So, I can add, \"यह प्रशांत समुद्र के किनारे स्थित है।\"\\n\\nPutting it all together, the response should be a concise and accurate description of China\\'s location in Hindi without any English words. I should make sure the grammar is correct and the terms are accurate.\\n\\nI should also check if there are any other important geographical features or details that are commonly included when describing China\\'s location. For example, mentioning that it\\'s the third-largest country by land area might add value, but since the user didn\\'t specify, I\\'ll stick to the location details.\\n\\nWait, the user\\'s initial example response included mentioning the size. Maybe I should include that as well for completeness. So, adding \"यह दुनिया का तीसरा सबसे बड़ा देश है, जिसका क्षेत्रफल 9.6 मिलियन वर्ग किलोमीटर है।\" That would make the answer more informative.\\n\\nI should ensure that all the numbers and terms are correctly translated. For example, \"9.6 million square kilometers\" is \"9.6 मिलियन वर्ग किलोमीटर.\" Also, \"देश\" means country, so that\\'s correct.\\n\\nPutting it all together, the response should flow naturally in Hindi, providing all the necessary geographical information without any English. I should avoid any technical jargon that might not be commonly understood, keeping it simple and clear.\\n\\nI think that\\'s a comprehensive approach. Now, I\\'ll structure the response accordingly, making sure each part is accurate and in Hindi.\\n</think>\\n\\nचीन पूर्वी एशिया में स्थित है। यह रूस, मंगोलिया, भारत और प्राचीन कोरिया के साथ सीमा साधारण करता है। यह प्रशांत समुद्र के किनारे स्थित है। चीन दुनिया का तीसरा सबसे बड़ा देश है, जिसका क्षेत्रफल 9.6 मिलियन वर्ग किलोमीटर है।'"
      ]
     },
     "execution_count": 38,
     "metadata": {},
     "output_type": "execute_result"
    }
   ],
   "source": [
    "parser.invoke(response)"
   ]
  },
  {
   "cell_type": "code",
   "execution_count": null,
   "metadata": {},
   "outputs": [],
   "source": []
  }
 ],
 "metadata": {
  "kernelspec": {
   "display_name": "Python 3",
   "language": "python",
   "name": "python3"
  },
  "language_info": {
   "codemirror_mode": {
    "name": "ipython",
    "version": 3
   },
   "file_extension": ".py",
   "mimetype": "text/x-python",
   "name": "python",
   "nbconvert_exporter": "python",
   "pygments_lexer": "ipython3",
   "version": "3.10.0"
  }
 },
 "nbformat": 4,
 "nbformat_minor": 2
}
