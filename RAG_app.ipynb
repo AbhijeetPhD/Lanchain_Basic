{
 "cells": [
  {
   "cell_type": "code",
   "execution_count": 1,
   "metadata": {},
   "outputs": [],
   "source": [
    "from langchain_community.document_loaders import PyPDFLoader"
   ]
  },
  {
   "cell_type": "markdown",
   "metadata": {},
   "source": [
    "### Pdf Loader"
   ]
  },
  {
   "cell_type": "code",
   "execution_count": 2,
   "metadata": {},
   "outputs": [],
   "source": [
    "loader=PyPDFLoader(r\"F:\\Generative_AI\\Langchain Basic\\Lanchain_Basic\\Data\\SDG.pdf\")\n",
    "doc=loader.load()"
   ]
  },
  {
   "cell_type": "code",
   "execution_count": 3,
   "metadata": {},
   "outputs": [
    {
     "data": {
      "text/plain": [
       "[Document(metadata={'source': 'F:\\\\Generative_AI\\\\Langchain Basic\\\\Lanchain_Basic\\\\Data\\\\SDG.pdf', 'page': 0, 'page_label': '1'}, page_content=''),\n",
       " Document(metadata={'source': 'F:\\\\Generative_AI\\\\Langchain Basic\\\\Lanchain_Basic\\\\Data\\\\SDG.pdf', 'page': 1, 'page_label': '2'}, page_content=''),\n",
       " Document(metadata={'source': 'F:\\\\Generative_AI\\\\Langchain Basic\\\\Lanchain_Basic\\\\Data\\\\SDG.pdf', 'page': 2, 'page_label': '3'}, page_content='IN THE YEAR 2015, LEADERS FROM 193 COUNTRIES OF THE WORLD \\nCAME TOGETHER TO FACE THE FUTURE.\\nAnd what they saw was daunting. Famines. Drought. Wars. Plagues. Poverty. \\nNot just in some faraway place, but in their own cities and towns and villages.\\nThey knew things didn’t have to be this way. They knew we had enough \\nfood to feed the world, but that it wasn’t getting shared. They knew there \\nwere medicines for HIV and other diseases, but they cost a lot. They knew \\nthat earthquakes and floods were inevitable, but that the high death \\ntolls were not. \\nThey also knew that billions of people worldwide shared their hope for a \\nbetter future.\\nSo leaders from these countries created a plan called the Sustainable \\nDevelopment Goals (SDGs). This set of 17 goals imagines a future just 15 years \\noff that would be rid of poverty and hunger, and safe from the worst effects of \\nclimate change. It’s an ambitious plan. \\nBut there’s ample evidence that we can succeed. In the past 15 years, the \\ninternational community cut extreme poverty in half. \\nNow we can finish the job.\\nThe United Nations Development Programme (UNDP) is one of the leading \\norganizations working to fulfil the SDGs by the year 2030. Present in nearly \\n170 countries and territories, we help nations make the Goals a reality. \\nWe also champion the Goals so that people everywhere know how to \\ndo their part. \\nUNDP is proud to continue as a leader in this global movement.\\nLearn about the Sustainable Development Goals.  What’s your Goal? '),\n",
       " Document(metadata={'source': 'F:\\\\Generative_AI\\\\Langchain Basic\\\\Lanchain_Basic\\\\Data\\\\SDG.pdf', 'page': 3, 'page_label': '4'}, page_content='END EXTREME POVERTY IN ALL FORMS  \\nBY 2030.\\nYes, it’s an ambitious goal—but we believe it can be done. In 2000, the \\nworld committed to halving the number of people living in extreme \\npoverty by the year 2015 and we met this goal. However, more than \\n800 million people around the world still live on less than $1.25 a day—\\nthat’s about the equivalent of the entire population of Europe living in \\nextreme poverty. Now it’s time to build on what we learned and end \\npoverty altogether. '),\n",
       " Document(metadata={'source': 'F:\\\\Generative_AI\\\\Langchain Basic\\\\Lanchain_Basic\\\\Data\\\\SDG.pdf', 'page': 4, 'page_label': '5'}, page_content='END HUNGER, ACHIEVE FOOD SECURITY \\nAND IMPROVED NUTRITION AND PROMOTE \\nSUSTAINABLE AGRICUL TURE\\nIn the past 20 years, hunger has dropped by almost half. Many \\ncountries that used to suffer from famine and hunger can now \\nmeet the nutritional needs of their most vulnerable people. It’s an \\nincredible accomplishment. Now we can go further and end hunger \\nand malnutrition once and for all. That means doing things such as \\npromoting sustainable agriculture and supporting small farmers. It’s a tall \\norder. But for the sake of the nearly 1 out of every 9 people on earth who \\ngo to bed hungry every night, we’ve got to try. Imagine a world where \\neveryone has access to sufficient and nutritious food all year round. \\nTogether, we can make that a reality by 2030. '),\n",
       " Document(metadata={'source': 'F:\\\\Generative_AI\\\\Langchain Basic\\\\Lanchain_Basic\\\\Data\\\\SDG.pdf', 'page': 5, 'page_label': '6'}, page_content='ENSURE HEAL THY LIVES AND PROMOTE \\nWELL-BEING FOR ALL AT ALL AGES\\nWe all know how important it is to be in good health. Our health affects \\neverything from how much we enjoy life to what work we can perform. \\nThat’s why there’s a Goal to make sure everyone has health coverage \\nand access to safe and effective medicines and vaccines. In the 25 \\nyears before the SDGs, we made big strides—preventable child deaths \\ndropped by more than half, and maternal mortality went down by \\nalmost as much. And yet some other numbers remain tragically high, like \\nthe fact that 6 million children die every year before their fifth birthday, \\nor that AIDS is the leading cause of death for adolescents in sub-Saharan \\nAfrica. We have the means to turn that around and make good health \\nmore than just a wish.'),\n",
       " Document(metadata={'source': 'F:\\\\Generative_AI\\\\Langchain Basic\\\\Lanchain_Basic\\\\Data\\\\SDG.pdf', 'page': 6, 'page_label': '7'}, page_content='ENSURE INCLUSIVE AND EQUITABLE QUALITY \\nEDUCATION AND PROMOTE LIFELONG \\nLEARNING OPPORTUNITIES FOR ALL \\nFirst, the bad news on education. Poverty, armed conflict and other \\nemergencies keep many, many kids around the world out of school. In \\nfact, kids from the poorest households are four times more likely to be \\nout of school than those of the richest households. Now for some good \\nnews. Since 2000, there has been enormous progress on the goal to \\nprovide primary education to all children worldwide: the total enrolment \\nrate in developing regions has reached 91%. By measures in any school, \\nthat’s a good grade. Now, let’s get an even better grade for all kids, \\nand achieve the goal of universal primary and secondary education, \\naffordable vocational training, access to higher education and more.'),\n",
       " Document(metadata={'source': 'F:\\\\Generative_AI\\\\Langchain Basic\\\\Lanchain_Basic\\\\Data\\\\SDG.pdf', 'page': 7, 'page_label': '8'}, page_content='We can celebrate the great progress the world has made in becoming \\nmore prosperous and fair. But there’s a shadow to the celebration. In \\njust about every way, women and girls lag behind. There are still gross \\ninequalities in work and wages, lots of unpaid “women’s work” such as \\nchild care and domestic work, and discrimination in public decision-\\nmaking. But there are grounds for hope. More girls are in school now \\ncompared to in 2000. Most regions have reached gender parity in \\nprimary education. The percentage of women getting paid for their work \\nis on the rise. The Sustainable Development Goals aim to build on these \\nachievements to ensure that there is an end to discrimination against \\nwomen and girls everywhere.\\nACHIEVE GENDER EQUALITY AND \\nEMPOWER ALL WOMEN AND GIRLS '),\n",
       " Document(metadata={'source': 'F:\\\\Generative_AI\\\\Langchain Basic\\\\Lanchain_Basic\\\\Data\\\\SDG.pdf', 'page': 8, 'page_label': '9'}, page_content='Everyone on earth should have access to safe and affordable drinking \\nwater. That’s the goal for 2030. While many people take clean drinking \\nwater and sanitation for granted, many others don’t. Water scarcity \\naffects more than 40 percent of people around the world, and that \\nnumber is projected to go even higher as a result of climate change. \\nIf we continue the path we’re on, by 2050 at least one in four people \\nare likely to be affected by recurring water shortages. But we can take \\na new path—more international cooperation, protecting wetlands \\nand rivers, sharing water-treatment technologies—that leads to \\naccomplishing this Goal. \\nENSURE AVAILABILITY AND SUSTAINABLE \\nMANAGEMENT OF WATER AND SANITATION \\nFOR ALL '),\n",
       " Document(metadata={'source': 'F:\\\\Generative_AI\\\\Langchain Basic\\\\Lanchain_Basic\\\\Data\\\\SDG.pdf', 'page': 9, 'page_label': '10'}, page_content='ENSURE ACCESS TO AFFORDABLE, RELIABLE, \\nSUSTAINABLE AND MODERN ENERGY FOR \\nALL \\nBetween 1990 and 2010, the number of people with access to electricity \\nincreased by 1.7 billion. That’s progress to be proud of. And yet as the \\nworld’s population continues to rise, still more people will need cheap \\nenergy to light their homes and streets, use phones and computers, \\nand do their everyday business. How we get that energy is at issue; fossil \\nfuels and greenhouse gas emissions are making drastic changes in the \\nclimate, leading to big problems on every continent. Instead, we can \\nbecome more energy-efficient and invest in clean energy sources such \\nas solar and wind. That way we’ll meet electricity needs and protect the \\nenvironment. How’s that for a balancing act?'),\n",
       " Document(metadata={'source': 'F:\\\\Generative_AI\\\\Langchain Basic\\\\Lanchain_Basic\\\\Data\\\\SDG.pdf', 'page': 10, 'page_label': '11'}, page_content='PROMOTE SUSTAINED, INCLUSIVE AND \\nSUSTAINABLE ECONOMIC GROWTH, FULL \\nAND PRODUCTIVE EMPLOYMENT AND \\nDECENT WORK FOR ALL \\nAn important part of economic growth is that people have jobs that \\npay enough to support themselves and their families. The good news \\nis that the middle class is growing worldwide—almost tripling in size \\nin developing countries in the last 25 years, to more than a third of the \\npopulation. But today, job growth is not keeping pace with the growing \\nlabour force. Things don’t have to be that way. We can promote policies \\nthat encourage entrepreneurship and job creation. We can eradicate \\nforced labour, slavery and human trafficking. And in the end we can \\nachieve the goal of decent work for all women and men by 2030.'),\n",
       " Document(metadata={'source': 'F:\\\\Generative_AI\\\\Langchain Basic\\\\Lanchain_Basic\\\\Data\\\\SDG.pdf', 'page': 11, 'page_label': '12'}, page_content='BUILD RESILIENT INFRASTRUCTURE, \\nPROMOTE INCLUSIVE AND SUSTAINABLE \\nINDUSTRIALIZATION AND FOSTER \\nINNOVATION \\nTechnological progress helps us address big global challenges such as \\ncreating jobs and becoming more energy efficient. For example, the \\nworld is becoming ever more interconnected and prosperous thanks to \\nthe internet. The more connected we are, the more we can all benefit \\nfrom the wisdom and contributions of people everywhere on earth.  And \\nyet four billion people have no way of getting online, the vast majority \\nof them in developing countries. The more we invest in innovation \\nand infrastructure, the better off we’ll all be. Bridging the digital divide, \\npromoting sustainable industries, and investing in scientific research and \\ninnovation are all important ways to facilitate sustainable development.'),\n",
       " Document(metadata={'source': 'F:\\\\Generative_AI\\\\Langchain Basic\\\\Lanchain_Basic\\\\Data\\\\SDG.pdf', 'page': 12, 'page_label': '13'}, page_content='REDUCE INEQUALITY WITHIN AND AMONG \\nCOUNTRIES \\nIt’s an old story: the rich get richer, and the poor get poorer. The divide \\nhas never been starker. We can and must adopt policies that create \\nopportunity for everyone, regardless of who they are or where they \\ncome from. Income inequality is a global problem that requires global \\nsolutions. That means improving the regulation of financial markets \\nand institutions, sending development aid where it is most needed \\nand helping people migrate safely so they can pursue opportunities. \\nTogether, we can now change the direction of the old story of inequality. '),\n",
       " Document(metadata={'source': 'F:\\\\Generative_AI\\\\Langchain Basic\\\\Lanchain_Basic\\\\Data\\\\SDG.pdf', 'page': 13, 'page_label': '14'}, page_content='MAKE CITIES AND HUMAN SETTLEMENTS \\nINCLUSIVE, SAFE, RESILIENT AND \\nSUSTAINABLE \\nIf you’re like most people, you live in a city. More than half the world’s \\npopulation now lives in cities, and that figure will go to about two-thirds \\nof humanity by the year 2050. Cities are getting bigger. In 1990 there \\nwere ten “mega-cities” with 10 million inhabitants or more. In 2014, there \\nwere 28 mega-cities, home to 453 million people. Incredible, huh? A lot \\nof people love cities; they’re centers of culture and business and life. The \\nthing is, they’re also often centers of extreme poverty. To make cities \\nsustainable for all, we can create good, affordable public housing. We \\ncan upgrade slum settlements. We can invest in public transport, create \\ngreen spaces, and get a broader range of people involved in urban \\nplanning decisions. That way, we can keep the things we love about \\ncities, and change the things we don’t.'),\n",
       " Document(metadata={'source': 'F:\\\\Generative_AI\\\\Langchain Basic\\\\Lanchain_Basic\\\\Data\\\\SDG.pdf', 'page': 14, 'page_label': '15'}, page_content='ENSURE SUSTAINABLE CONSUMPTION AND \\nPRODUCTION PATTERNS\\nSome people use a lot of stuff, and some people use very little—in fact, \\na big share of the world population is consuming too little to meet even \\ntheir basic needs. Instead, we can have a world where everybody gets \\nwhat they need to survive and thrive. And we can consume in a way \\nthat preserves our natural resources so that our children can enjoy them, \\nand their children and their children after that. The hard part is how to \\nachieve that goal. We can manage our natural resources more efficiently \\nand dispose of toxic waste better. Cut per capita food waste in half \\nglobally. Get businesses and consumers to reduce and recycle waste. \\nAnd help countries that have typically not consumed a lot to move \\ntowards more responsible consumption patterns.'),\n",
       " Document(metadata={'source': 'F:\\\\Generative_AI\\\\Langchain Basic\\\\Lanchain_Basic\\\\Data\\\\SDG.pdf', 'page': 15, 'page_label': '16'}, page_content='TAKE URGENT ACTION TO COMBAT CLIMATE \\nCHANGE AND ITS IMPACTS\\nEvery country in the world is seeing the drastic effects of climate \\nchange, some more than others. On average, the annual losses just \\nfrom earthquakes, tsunamis, tropical cyclones and flooding count in the \\nhundreds of billions of dollars. We can reduce the loss of life and property \\nby helping more vulnerable regions—such as land-locked countries \\nand island states—become more resilient. It is still possible, with the \\npolitical will and technological measures, to limit the increase in global \\nmean temperature to two degrees Celsius above pre-industrial levels—\\nand thus avoid the worst effects of climate change. The Sustainable \\nDevelopment Goals lay out a way for countries to work together to meet \\nthis urgent challenge. '),\n",
       " Document(metadata={'source': 'F:\\\\Generative_AI\\\\Langchain Basic\\\\Lanchain_Basic\\\\Data\\\\SDG.pdf', 'page': 16, 'page_label': '17'}, page_content='CONSERVE AND SUSTAINABLY USE THE \\nOCEANS, SEAS AND MARINE RESOURCES \\nFOR SUSTAINABLE DEVELOPMENT\\nThe oceans make human life possible. Their temperature, their chemistry, \\ntheir currents, their life forms. For one thing, more than 3 billion people \\ndepend on marine and coastal diversity for their livelihoods. But today \\nwe are seeing nearly a third of the world’s fish stocks overexploited. \\nThat’s not a sustainable way of life. Even people who live nowhere near \\nthe ocean can’t live without it. Oceans absorb about 30 percent of the \\ncarbon dioxide that humans produce; but we’re producing more carbon \\ndioxide than ever before and that makes the oceans more acidic—26% \\nmore, since the start of the industrial revolution. Our trash doesn’t help \\neither—13,000 pieces of plastic litter on every square kilometer of ocean. \\nSounds bad, right? Don’t despair! The Sustainable Development Goals \\nindicate targets for managing and protecting life below water. '),\n",
       " Document(metadata={'source': 'F:\\\\Generative_AI\\\\Langchain Basic\\\\Lanchain_Basic\\\\Data\\\\SDG.pdf', 'page': 17, 'page_label': '18'}, page_content='PROTECT, RESTORE AND PROMOTE \\nSUSTAINABLE USE OF TERRESTRIAL \\nECOSYSTEMS, SUSTAINABLY MANAGE \\nFORESTS, COMBAT DESERTIFICATION, AND \\nHAL T AND REVERSE LAND DEGRADATION \\nAND HAL T BIODIVERSITY LOSS \\nHumans and other animals rely on other forms of life on land for food, \\nclean air, clean water, and as a means of combatting climate change. \\nPlant life makes up 80% of the human diet. Forests, which cover 30% \\nof the Earth’s surface, help keep the air and water clean and the Earth’s \\nclimate in balance. That’s not to mention they’re home to millions of \\nanimal species. But the land and life on it are in trouble. Arable land \\nis disappearing 30 to 35 times faster than it has historically. Deserts \\nare spreading. Animal breeds are going extinct. We can turn these \\ntrends around. Fortunately, the Sustainable Development Goals aim to \\nconserve and restore the use of terrestrial ecosystems such as forests, \\nwetlands, drylands and mountains by 2030. '),\n",
       " Document(metadata={'source': 'F:\\\\Generative_AI\\\\Langchain Basic\\\\Lanchain_Basic\\\\Data\\\\SDG.pdf', 'page': 18, 'page_label': '19'}, page_content='PROMOTE PEACEFUL AND INCLUSIVE \\nSOCIETIES FOR SUSTAINABLE \\nDEVELOPMENT, PROVIDE ACCESS TO \\nJUSTICE FOR ALL AND BUILD EFFECTIVE, \\nACCOUNTABLE AND INCLUSIVE \\nINSTITUTIONS AT ALL LEVELS \\nHow can a country develop—how can people eat and teach and learn \\nand work and raise families—without peace? And how can a country \\nhave peace without justice, without human rights, without government \\nbased on the rule of law? Some parts of the world enjoy relative peace \\nand justice, and may come to take it for granted. Other parts seem to \\nbe plagued by armed conflict, crime, torture and exploitation, all of \\nwhich hinders their development. The goal of peace and justice is one \\nfor all countries to strive towards. The Sustainable Development Goals \\naim to reduce all forms of violence and propose that governments \\nand communities find lasting solutions to conflict and insecurity. That \\nmeans strengthening the rule of law, reducing the flow of illicit arms, \\nand bringing developing countries more into the center of institutions \\nof global governance.'),\n",
       " Document(metadata={'source': 'F:\\\\Generative_AI\\\\Langchain Basic\\\\Lanchain_Basic\\\\Data\\\\SDG.pdf', 'page': 19, 'page_label': '20'}, page_content='STRENGTHEN THE MEANS OF \\nIMPLEMENTATION AND REVITALIZE THE \\nGLOBAL PARTNERSHIP FOR SUSTAINABLE \\nDEVELOPMENT \\nThe Sustainable Development Goals are pretty big to-do list, don’t you \\nthink? In fact, it’s so big, you may just want to throw your hands up in the \\nair. “Forget it! Can’t be done! Why even try!” But we’ve got a lot going for \\nus. The world is more interconnected today than ever before, thanks to \\nthe internet, travel and global institutions. There’s a growing consensus \\nabout the need to work together to stop climate change. And the \\nSustainable Development Goals are no small matter either. 193 countries \\nagreed on these goals. Pretty incredible, isn’t it? 193 countries agreeing \\non anything? The final goal lays out a way for nations to work together to \\nachieve all the other Goals. '),\n",
       " Document(metadata={'source': 'F:\\\\Generative_AI\\\\Langchain Basic\\\\Lanchain_Basic\\\\Data\\\\SDG.pdf', 'page': 20, 'page_label': '21'}, page_content='Go shopping \\nMake a donation \\nStart a fundraiser \\nSpread the word \\nVisit shop.undp.org for SDG merchandise, and show off the goals you’re \\nmost passionate about. \\nMoney doesn’t just make the world go around; it’s also the most direct \\nway to reduce and eradicate all forms of poverty.\\nFundraising is a great way to raise money, create awareness, and inspire \\nothers. Plus, it’s fun!\\nSearch for @UNDP on Twitter, Facebook and Instagram, and share the \\ncontent you love.\\nTo donate or learn more about fundraising, visit undp.org/takeaction\\nThere are many ways to show your support and help us reach \\nthe Sustainable Development Goals by 2030. Here are a few :\\nWHA T CAN  \\nI DO TO HELP?'),\n",
       " Document(metadata={'source': 'F:\\\\Generative_AI\\\\Langchain Basic\\\\Lanchain_Basic\\\\Data\\\\SDG.pdf', 'page': 21, 'page_label': '22'}, page_content='NOTES'),\n",
       " Document(metadata={'source': 'F:\\\\Generative_AI\\\\Langchain Basic\\\\Lanchain_Basic\\\\Data\\\\SDG.pdf', 'page': 22, 'page_label': '23'}, page_content='NOTES'),\n",
       " Document(metadata={'source': 'F:\\\\Generative_AI\\\\Langchain Basic\\\\Lanchain_Basic\\\\Data\\\\SDG.pdf', 'page': 23, 'page_label': '24'}, page_content='')]"
      ]
     },
     "execution_count": 3,
     "metadata": {},
     "output_type": "execute_result"
    }
   ],
   "source": [
    "doc"
   ]
  },
  {
   "cell_type": "code",
   "execution_count": 4,
   "metadata": {},
   "outputs": [
    {
     "data": {
      "text/plain": [
       "24"
      ]
     },
     "execution_count": 4,
     "metadata": {},
     "output_type": "execute_result"
    }
   ],
   "source": [
    "len(doc)"
   ]
  },
  {
   "cell_type": "markdown",
   "metadata": {},
   "source": [
    "### Chunking "
   ]
  },
  {
   "cell_type": "code",
   "execution_count": 5,
   "metadata": {},
   "outputs": [],
   "source": [
    "from langchain_text_splitters import RecursiveCharacterTextSplitter\n"
   ]
  },
  {
   "cell_type": "code",
   "execution_count": 6,
   "metadata": {},
   "outputs": [],
   "source": [
    "splitter=RecursiveCharacterTextSplitter(chunk_size=500,chunk_overlap=20)"
   ]
  },
  {
   "cell_type": "code",
   "execution_count": 7,
   "metadata": {},
   "outputs": [],
   "source": [
    "doc_split=splitter.split_documents(doc)"
   ]
  },
  {
   "cell_type": "code",
   "execution_count": 8,
   "metadata": {},
   "outputs": [
    {
     "data": {
      "text/plain": [
       "'IN THE YEAR 2015, LEADERS FROM 193 COUNTRIES OF THE WORLD \\nCAME TOGETHER TO FACE THE FUTURE.\\nAnd what they saw was daunting. Famines. Drought. Wars. Plagues. Poverty. \\nNot just in some faraway place, but in their own cities and towns and villages.\\nThey knew things didn’t have to be this way. They knew we had enough \\nfood to feed the world, but that it wasn’t getting shared. They knew there \\nwere medicines for HIV and other diseases, but they cost a lot. They knew'"
      ]
     },
     "execution_count": 8,
     "metadata": {},
     "output_type": "execute_result"
    }
   ],
   "source": [
    "doc_split[0].page_content"
   ]
  },
  {
   "cell_type": "markdown",
   "metadata": {},
   "source": [
    "### Prompt Template "
   ]
  },
  {
   "cell_type": "code",
   "execution_count": 9,
   "metadata": {},
   "outputs": [],
   "source": [
    "from langchain.prompts import ChatPromptTemplate"
   ]
  },
  {
   "cell_type": "code",
   "execution_count": 24,
   "metadata": {},
   "outputs": [],
   "source": [
    "prompt=ChatPromptTemplate.from_template(\"translate the {context} in hindi\")"
   ]
  },
  {
   "cell_type": "markdown",
   "metadata": {},
   "source": [
    "### LLM Model "
   ]
  },
  {
   "cell_type": "code",
   "execution_count": 13,
   "metadata": {},
   "outputs": [],
   "source": [
    "import os \n",
    "from dotenv import load_dotenv"
   ]
  },
  {
   "cell_type": "code",
   "execution_count": 14,
   "metadata": {},
   "outputs": [
    {
     "data": {
      "text/plain": [
       "True"
      ]
     },
     "execution_count": 14,
     "metadata": {},
     "output_type": "execute_result"
    }
   ],
   "source": [
    "load_dotenv()"
   ]
  },
  {
   "cell_type": "code",
   "execution_count": 15,
   "metadata": {},
   "outputs": [],
   "source": [
    "os.environ[\"OPENAI_API_KEY\"]=os.environ.get(\"OPENAI_API_KEY\")"
   ]
  },
  {
   "cell_type": "code",
   "execution_count": 16,
   "metadata": {},
   "outputs": [],
   "source": [
    "from langchain.chat_models import init_chat_model"
   ]
  },
  {
   "cell_type": "code",
   "execution_count": 17,
   "metadata": {},
   "outputs": [],
   "source": [
    "llm=init_chat_model(\"gpt-4o-mini\", model_provider=\"openai\")"
   ]
  },
  {
   "cell_type": "code",
   "execution_count": 18,
   "metadata": {},
   "outputs": [
    {
     "data": {
      "text/plain": [
       "AIMessage(content='I’m called ChatGPT. How can I assist you today?', additional_kwargs={'refusal': None}, response_metadata={'token_usage': {'completion_tokens': 14, 'prompt_tokens': 11, 'total_tokens': 25, 'completion_tokens_details': {'accepted_prediction_tokens': 0, 'audio_tokens': 0, 'reasoning_tokens': 0, 'rejected_prediction_tokens': 0}, 'prompt_tokens_details': {'audio_tokens': 0, 'cached_tokens': 0}}, 'model_name': 'gpt-4o-mini-2024-07-18', 'system_fingerprint': 'fp_06737a9306', 'finish_reason': 'stop', 'logprobs': None}, id='run-3aad2469-52ca-4bf0-90fd-8c57265d79af-0', usage_metadata={'input_tokens': 11, 'output_tokens': 14, 'total_tokens': 25, 'input_token_details': {'audio': 0, 'cache_read': 0}, 'output_token_details': {'audio': 0, 'reasoning': 0}})"
      ]
     },
     "execution_count": 18,
     "metadata": {},
     "output_type": "execute_result"
    }
   ],
   "source": [
    "llm.invoke(\"what is your name\")"
   ]
  },
  {
   "cell_type": "markdown",
   "metadata": {},
   "source": [
    "### Stuff Document Chain"
   ]
  },
  {
   "cell_type": "code",
   "execution_count": 20,
   "metadata": {},
   "outputs": [],
   "source": [
    "from langchain.chains.combine_documents import create_stuff_documents_chain"
   ]
  },
  {
   "cell_type": "code",
   "execution_count": 25,
   "metadata": {},
   "outputs": [],
   "source": [
    "chain=create_stuff_documents_chain(llm,prompt)"
   ]
  },
  {
   "cell_type": "code",
   "execution_count": 29,
   "metadata": {},
   "outputs": [
    {
     "data": {
      "text/plain": [
       "[Document(metadata={'source': 'F:\\\\Generative_AI\\\\Langchain Basic\\\\Lanchain_Basic\\\\Data\\\\SDG.pdf', 'page': 2, 'page_label': '3'}, page_content='IN THE YEAR 2015, LEADERS FROM 193 COUNTRIES OF THE WORLD \\nCAME TOGETHER TO FACE THE FUTURE.\\nAnd what they saw was daunting. Famines. Drought. Wars. Plagues. Poverty. \\nNot just in some faraway place, but in their own cities and towns and villages.\\nThey knew things didn’t have to be this way. They knew we had enough \\nfood to feed the world, but that it wasn’t getting shared. They knew there \\nwere medicines for HIV and other diseases, but they cost a lot. They knew'),\n",
       " Document(metadata={'source': 'F:\\\\Generative_AI\\\\Langchain Basic\\\\Lanchain_Basic\\\\Data\\\\SDG.pdf', 'page': 2, 'page_label': '3'}, page_content='that earthquakes and floods were inevitable, but that the high death \\ntolls were not. \\nThey also knew that billions of people worldwide shared their hope for a \\nbetter future.\\nSo leaders from these countries created a plan called the Sustainable \\nDevelopment Goals (SDGs). This set of 17 goals imagines a future just 15 years \\noff that would be rid of poverty and hunger, and safe from the worst effects of \\nclimate change. It’s an ambitious plan.'),\n",
       " Document(metadata={'source': 'F:\\\\Generative_AI\\\\Langchain Basic\\\\Lanchain_Basic\\\\Data\\\\SDG.pdf', 'page': 2, 'page_label': '3'}, page_content='But there’s ample evidence that we can succeed. In the past 15 years, the \\ninternational community cut extreme poverty in half. \\nNow we can finish the job.\\nThe United Nations Development Programme (UNDP) is one of the leading \\norganizations working to fulfil the SDGs by the year 2030. Present in nearly \\n170 countries and territories, we help nations make the Goals a reality. \\nWe also champion the Goals so that people everywhere know how to \\ndo their part.'),\n",
       " Document(metadata={'source': 'F:\\\\Generative_AI\\\\Langchain Basic\\\\Lanchain_Basic\\\\Data\\\\SDG.pdf', 'page': 2, 'page_label': '3'}, page_content='do their part. \\nUNDP is proud to continue as a leader in this global movement.\\nLearn about the Sustainable Development Goals.  What’s your Goal?'),\n",
       " Document(metadata={'source': 'F:\\\\Generative_AI\\\\Langchain Basic\\\\Lanchain_Basic\\\\Data\\\\SDG.pdf', 'page': 3, 'page_label': '4'}, page_content='END EXTREME POVERTY IN ALL FORMS  \\nBY 2030.\\nYes, it’s an ambitious goal—but we believe it can be done. In 2000, the \\nworld committed to halving the number of people living in extreme \\npoverty by the year 2015 and we met this goal. However, more than \\n800 million people around the world still live on less than $1.25 a day—\\nthat’s about the equivalent of the entire population of Europe living in \\nextreme poverty. Now it’s time to build on what we learned and end \\npoverty altogether.'),\n",
       " Document(metadata={'source': 'F:\\\\Generative_AI\\\\Langchain Basic\\\\Lanchain_Basic\\\\Data\\\\SDG.pdf', 'page': 4, 'page_label': '5'}, page_content='END HUNGER, ACHIEVE FOOD SECURITY \\nAND IMPROVED NUTRITION AND PROMOTE \\nSUSTAINABLE AGRICUL TURE\\nIn the past 20 years, hunger has dropped by almost half. Many \\ncountries that used to suffer from famine and hunger can now \\nmeet the nutritional needs of their most vulnerable people. It’s an \\nincredible accomplishment. Now we can go further and end hunger \\nand malnutrition once and for all. That means doing things such as \\npromoting sustainable agriculture and supporting small farmers. It’s a tall'),\n",
       " Document(metadata={'source': 'F:\\\\Generative_AI\\\\Langchain Basic\\\\Lanchain_Basic\\\\Data\\\\SDG.pdf', 'page': 4, 'page_label': '5'}, page_content='order. But for the sake of the nearly 1 out of every 9 people on earth who \\ngo to bed hungry every night, we’ve got to try. Imagine a world where \\neveryone has access to sufficient and nutritious food all year round. \\nTogether, we can make that a reality by 2030.'),\n",
       " Document(metadata={'source': 'F:\\\\Generative_AI\\\\Langchain Basic\\\\Lanchain_Basic\\\\Data\\\\SDG.pdf', 'page': 5, 'page_label': '6'}, page_content='ENSURE HEAL THY LIVES AND PROMOTE \\nWELL-BEING FOR ALL AT ALL AGES\\nWe all know how important it is to be in good health. Our health affects \\neverything from how much we enjoy life to what work we can perform. \\nThat’s why there’s a Goal to make sure everyone has health coverage \\nand access to safe and effective medicines and vaccines. In the 25 \\nyears before the SDGs, we made big strides—preventable child deaths \\ndropped by more than half, and maternal mortality went down by'),\n",
       " Document(metadata={'source': 'F:\\\\Generative_AI\\\\Langchain Basic\\\\Lanchain_Basic\\\\Data\\\\SDG.pdf', 'page': 5, 'page_label': '6'}, page_content='almost as much. And yet some other numbers remain tragically high, like \\nthe fact that 6 million children die every year before their fifth birthday, \\nor that AIDS is the leading cause of death for adolescents in sub-Saharan \\nAfrica. We have the means to turn that around and make good health \\nmore than just a wish.'),\n",
       " Document(metadata={'source': 'F:\\\\Generative_AI\\\\Langchain Basic\\\\Lanchain_Basic\\\\Data\\\\SDG.pdf', 'page': 6, 'page_label': '7'}, page_content='ENSURE INCLUSIVE AND EQUITABLE QUALITY \\nEDUCATION AND PROMOTE LIFELONG \\nLEARNING OPPORTUNITIES FOR ALL \\nFirst, the bad news on education. Poverty, armed conflict and other \\nemergencies keep many, many kids around the world out of school. In \\nfact, kids from the poorest households are four times more likely to be \\nout of school than those of the richest households. Now for some good \\nnews. Since 2000, there has been enormous progress on the goal to'),\n",
       " Document(metadata={'source': 'F:\\\\Generative_AI\\\\Langchain Basic\\\\Lanchain_Basic\\\\Data\\\\SDG.pdf', 'page': 6, 'page_label': '7'}, page_content='provide primary education to all children worldwide: the total enrolment \\nrate in developing regions has reached 91%. By measures in any school, \\nthat’s a good grade. Now, let’s get an even better grade for all kids, \\nand achieve the goal of universal primary and secondary education, \\naffordable vocational training, access to higher education and more.'),\n",
       " Document(metadata={'source': 'F:\\\\Generative_AI\\\\Langchain Basic\\\\Lanchain_Basic\\\\Data\\\\SDG.pdf', 'page': 7, 'page_label': '8'}, page_content='We can celebrate the great progress the world has made in becoming \\nmore prosperous and fair. But there’s a shadow to the celebration. In \\njust about every way, women and girls lag behind. There are still gross \\ninequalities in work and wages, lots of unpaid “women’s work” such as \\nchild care and domestic work, and discrimination in public decision-\\nmaking. But there are grounds for hope. More girls are in school now \\ncompared to in 2000. Most regions have reached gender parity in'),\n",
       " Document(metadata={'source': 'F:\\\\Generative_AI\\\\Langchain Basic\\\\Lanchain_Basic\\\\Data\\\\SDG.pdf', 'page': 7, 'page_label': '8'}, page_content='primary education. The percentage of women getting paid for their work \\nis on the rise. The Sustainable Development Goals aim to build on these \\nachievements to ensure that there is an end to discrimination against \\nwomen and girls everywhere.\\nACHIEVE GENDER EQUALITY AND \\nEMPOWER ALL WOMEN AND GIRLS'),\n",
       " Document(metadata={'source': 'F:\\\\Generative_AI\\\\Langchain Basic\\\\Lanchain_Basic\\\\Data\\\\SDG.pdf', 'page': 8, 'page_label': '9'}, page_content='Everyone on earth should have access to safe and affordable drinking \\nwater. That’s the goal for 2030. While many people take clean drinking \\nwater and sanitation for granted, many others don’t. Water scarcity \\naffects more than 40 percent of people around the world, and that \\nnumber is projected to go even higher as a result of climate change. \\nIf we continue the path we’re on, by 2050 at least one in four people \\nare likely to be affected by recurring water shortages. But we can take'),\n",
       " Document(metadata={'source': 'F:\\\\Generative_AI\\\\Langchain Basic\\\\Lanchain_Basic\\\\Data\\\\SDG.pdf', 'page': 8, 'page_label': '9'}, page_content='a new path—more international cooperation, protecting wetlands \\nand rivers, sharing water-treatment technologies—that leads to \\naccomplishing this Goal. \\nENSURE AVAILABILITY AND SUSTAINABLE \\nMANAGEMENT OF WATER AND SANITATION \\nFOR ALL'),\n",
       " Document(metadata={'source': 'F:\\\\Generative_AI\\\\Langchain Basic\\\\Lanchain_Basic\\\\Data\\\\SDG.pdf', 'page': 9, 'page_label': '10'}, page_content='ENSURE ACCESS TO AFFORDABLE, RELIABLE, \\nSUSTAINABLE AND MODERN ENERGY FOR \\nALL \\nBetween 1990 and 2010, the number of people with access to electricity \\nincreased by 1.7 billion. That’s progress to be proud of. And yet as the \\nworld’s population continues to rise, still more people will need cheap \\nenergy to light their homes and streets, use phones and computers, \\nand do their everyday business. How we get that energy is at issue; fossil'),\n",
       " Document(metadata={'source': 'F:\\\\Generative_AI\\\\Langchain Basic\\\\Lanchain_Basic\\\\Data\\\\SDG.pdf', 'page': 9, 'page_label': '10'}, page_content='fuels and greenhouse gas emissions are making drastic changes in the \\nclimate, leading to big problems on every continent. Instead, we can \\nbecome more energy-efficient and invest in clean energy sources such \\nas solar and wind. That way we’ll meet electricity needs and protect the \\nenvironment. How’s that for a balancing act?'),\n",
       " Document(metadata={'source': 'F:\\\\Generative_AI\\\\Langchain Basic\\\\Lanchain_Basic\\\\Data\\\\SDG.pdf', 'page': 10, 'page_label': '11'}, page_content='PROMOTE SUSTAINED, INCLUSIVE AND \\nSUSTAINABLE ECONOMIC GROWTH, FULL \\nAND PRODUCTIVE EMPLOYMENT AND \\nDECENT WORK FOR ALL \\nAn important part of economic growth is that people have jobs that \\npay enough to support themselves and their families. The good news \\nis that the middle class is growing worldwide—almost tripling in size \\nin developing countries in the last 25 years, to more than a third of the \\npopulation. But today, job growth is not keeping pace with the growing'),\n",
       " Document(metadata={'source': 'F:\\\\Generative_AI\\\\Langchain Basic\\\\Lanchain_Basic\\\\Data\\\\SDG.pdf', 'page': 10, 'page_label': '11'}, page_content='labour force. Things don’t have to be that way. We can promote policies \\nthat encourage entrepreneurship and job creation. We can eradicate \\nforced labour, slavery and human trafficking. And in the end we can \\nachieve the goal of decent work for all women and men by 2030.'),\n",
       " Document(metadata={'source': 'F:\\\\Generative_AI\\\\Langchain Basic\\\\Lanchain_Basic\\\\Data\\\\SDG.pdf', 'page': 11, 'page_label': '12'}, page_content='BUILD RESILIENT INFRASTRUCTURE, \\nPROMOTE INCLUSIVE AND SUSTAINABLE \\nINDUSTRIALIZATION AND FOSTER \\nINNOVATION \\nTechnological progress helps us address big global challenges such as \\ncreating jobs and becoming more energy efficient. For example, the \\nworld is becoming ever more interconnected and prosperous thanks to \\nthe internet. The more connected we are, the more we can all benefit \\nfrom the wisdom and contributions of people everywhere on earth.  And'),\n",
       " Document(metadata={'source': 'F:\\\\Generative_AI\\\\Langchain Basic\\\\Lanchain_Basic\\\\Data\\\\SDG.pdf', 'page': 11, 'page_label': '12'}, page_content='yet four billion people have no way of getting online, the vast majority \\nof them in developing countries. The more we invest in innovation \\nand infrastructure, the better off we’ll all be. Bridging the digital divide, \\npromoting sustainable industries, and investing in scientific research and \\ninnovation are all important ways to facilitate sustainable development.'),\n",
       " Document(metadata={'source': 'F:\\\\Generative_AI\\\\Langchain Basic\\\\Lanchain_Basic\\\\Data\\\\SDG.pdf', 'page': 12, 'page_label': '13'}, page_content='REDUCE INEQUALITY WITHIN AND AMONG \\nCOUNTRIES \\nIt’s an old story: the rich get richer, and the poor get poorer. The divide \\nhas never been starker. We can and must adopt policies that create \\nopportunity for everyone, regardless of who they are or where they \\ncome from. Income inequality is a global problem that requires global \\nsolutions. That means improving the regulation of financial markets \\nand institutions, sending development aid where it is most needed'),\n",
       " Document(metadata={'source': 'F:\\\\Generative_AI\\\\Langchain Basic\\\\Lanchain_Basic\\\\Data\\\\SDG.pdf', 'page': 12, 'page_label': '13'}, page_content='and helping people migrate safely so they can pursue opportunities. \\nTogether, we can now change the direction of the old story of inequality.'),\n",
       " Document(metadata={'source': 'F:\\\\Generative_AI\\\\Langchain Basic\\\\Lanchain_Basic\\\\Data\\\\SDG.pdf', 'page': 13, 'page_label': '14'}, page_content='MAKE CITIES AND HUMAN SETTLEMENTS \\nINCLUSIVE, SAFE, RESILIENT AND \\nSUSTAINABLE \\nIf you’re like most people, you live in a city. More than half the world’s \\npopulation now lives in cities, and that figure will go to about two-thirds \\nof humanity by the year 2050. Cities are getting bigger. In 1990 there \\nwere ten “mega-cities” with 10 million inhabitants or more. In 2014, there \\nwere 28 mega-cities, home to 453 million people. Incredible, huh? A lot'),\n",
       " Document(metadata={'source': 'F:\\\\Generative_AI\\\\Langchain Basic\\\\Lanchain_Basic\\\\Data\\\\SDG.pdf', 'page': 13, 'page_label': '14'}, page_content='of people love cities; they’re centers of culture and business and life. The \\nthing is, they’re also often centers of extreme poverty. To make cities \\nsustainable for all, we can create good, affordable public housing. We \\ncan upgrade slum settlements. We can invest in public transport, create \\ngreen spaces, and get a broader range of people involved in urban \\nplanning decisions. That way, we can keep the things we love about \\ncities, and change the things we don’t.'),\n",
       " Document(metadata={'source': 'F:\\\\Generative_AI\\\\Langchain Basic\\\\Lanchain_Basic\\\\Data\\\\SDG.pdf', 'page': 14, 'page_label': '15'}, page_content='ENSURE SUSTAINABLE CONSUMPTION AND \\nPRODUCTION PATTERNS\\nSome people use a lot of stuff, and some people use very little—in fact, \\na big share of the world population is consuming too little to meet even \\ntheir basic needs. Instead, we can have a world where everybody gets \\nwhat they need to survive and thrive. And we can consume in a way \\nthat preserves our natural resources so that our children can enjoy them, \\nand their children and their children after that. The hard part is how to'),\n",
       " Document(metadata={'source': 'F:\\\\Generative_AI\\\\Langchain Basic\\\\Lanchain_Basic\\\\Data\\\\SDG.pdf', 'page': 14, 'page_label': '15'}, page_content='achieve that goal. We can manage our natural resources more efficiently \\nand dispose of toxic waste better. Cut per capita food waste in half \\nglobally. Get businesses and consumers to reduce and recycle waste. \\nAnd help countries that have typically not consumed a lot to move \\ntowards more responsible consumption patterns.'),\n",
       " Document(metadata={'source': 'F:\\\\Generative_AI\\\\Langchain Basic\\\\Lanchain_Basic\\\\Data\\\\SDG.pdf', 'page': 15, 'page_label': '16'}, page_content='TAKE URGENT ACTION TO COMBAT CLIMATE \\nCHANGE AND ITS IMPACTS\\nEvery country in the world is seeing the drastic effects of climate \\nchange, some more than others. On average, the annual losses just \\nfrom earthquakes, tsunamis, tropical cyclones and flooding count in the \\nhundreds of billions of dollars. We can reduce the loss of life and property \\nby helping more vulnerable regions—such as land-locked countries \\nand island states—become more resilient. It is still possible, with the'),\n",
       " Document(metadata={'source': 'F:\\\\Generative_AI\\\\Langchain Basic\\\\Lanchain_Basic\\\\Data\\\\SDG.pdf', 'page': 15, 'page_label': '16'}, page_content='political will and technological measures, to limit the increase in global \\nmean temperature to two degrees Celsius above pre-industrial levels—\\nand thus avoid the worst effects of climate change. The Sustainable \\nDevelopment Goals lay out a way for countries to work together to meet \\nthis urgent challenge.'),\n",
       " Document(metadata={'source': 'F:\\\\Generative_AI\\\\Langchain Basic\\\\Lanchain_Basic\\\\Data\\\\SDG.pdf', 'page': 16, 'page_label': '17'}, page_content='CONSERVE AND SUSTAINABLY USE THE \\nOCEANS, SEAS AND MARINE RESOURCES \\nFOR SUSTAINABLE DEVELOPMENT\\nThe oceans make human life possible. Their temperature, their chemistry, \\ntheir currents, their life forms. For one thing, more than 3 billion people \\ndepend on marine and coastal diversity for their livelihoods. But today \\nwe are seeing nearly a third of the world’s fish stocks overexploited. \\nThat’s not a sustainable way of life. Even people who live nowhere near'),\n",
       " Document(metadata={'source': 'F:\\\\Generative_AI\\\\Langchain Basic\\\\Lanchain_Basic\\\\Data\\\\SDG.pdf', 'page': 16, 'page_label': '17'}, page_content='the ocean can’t live without it. Oceans absorb about 30 percent of the \\ncarbon dioxide that humans produce; but we’re producing more carbon \\ndioxide than ever before and that makes the oceans more acidic—26% \\nmore, since the start of the industrial revolution. Our trash doesn’t help \\neither—13,000 pieces of plastic litter on every square kilometer of ocean. \\nSounds bad, right? Don’t despair! The Sustainable Development Goals \\nindicate targets for managing and protecting life below water.'),\n",
       " Document(metadata={'source': 'F:\\\\Generative_AI\\\\Langchain Basic\\\\Lanchain_Basic\\\\Data\\\\SDG.pdf', 'page': 17, 'page_label': '18'}, page_content='PROTECT, RESTORE AND PROMOTE \\nSUSTAINABLE USE OF TERRESTRIAL \\nECOSYSTEMS, SUSTAINABLY MANAGE \\nFORESTS, COMBAT DESERTIFICATION, AND \\nHAL T AND REVERSE LAND DEGRADATION \\nAND HAL T BIODIVERSITY LOSS \\nHumans and other animals rely on other forms of life on land for food, \\nclean air, clean water, and as a means of combatting climate change. \\nPlant life makes up 80% of the human diet. Forests, which cover 30% \\nof the Earth’s surface, help keep the air and water clean and the Earth’s'),\n",
       " Document(metadata={'source': 'F:\\\\Generative_AI\\\\Langchain Basic\\\\Lanchain_Basic\\\\Data\\\\SDG.pdf', 'page': 17, 'page_label': '18'}, page_content='climate in balance. That’s not to mention they’re home to millions of \\nanimal species. But the land and life on it are in trouble. Arable land \\nis disappearing 30 to 35 times faster than it has historically. Deserts \\nare spreading. Animal breeds are going extinct. We can turn these \\ntrends around. Fortunately, the Sustainable Development Goals aim to \\nconserve and restore the use of terrestrial ecosystems such as forests, \\nwetlands, drylands and mountains by 2030.'),\n",
       " Document(metadata={'source': 'F:\\\\Generative_AI\\\\Langchain Basic\\\\Lanchain_Basic\\\\Data\\\\SDG.pdf', 'page': 18, 'page_label': '19'}, page_content='PROMOTE PEACEFUL AND INCLUSIVE \\nSOCIETIES FOR SUSTAINABLE \\nDEVELOPMENT, PROVIDE ACCESS TO \\nJUSTICE FOR ALL AND BUILD EFFECTIVE, \\nACCOUNTABLE AND INCLUSIVE \\nINSTITUTIONS AT ALL LEVELS \\nHow can a country develop—how can people eat and teach and learn \\nand work and raise families—without peace? And how can a country \\nhave peace without justice, without human rights, without government \\nbased on the rule of law? Some parts of the world enjoy relative peace'),\n",
       " Document(metadata={'source': 'F:\\\\Generative_AI\\\\Langchain Basic\\\\Lanchain_Basic\\\\Data\\\\SDG.pdf', 'page': 18, 'page_label': '19'}, page_content='and justice, and may come to take it for granted. Other parts seem to \\nbe plagued by armed conflict, crime, torture and exploitation, all of \\nwhich hinders their development. The goal of peace and justice is one \\nfor all countries to strive towards. The Sustainable Development Goals \\naim to reduce all forms of violence and propose that governments \\nand communities find lasting solutions to conflict and insecurity. That \\nmeans strengthening the rule of law, reducing the flow of illicit arms,'),\n",
       " Document(metadata={'source': 'F:\\\\Generative_AI\\\\Langchain Basic\\\\Lanchain_Basic\\\\Data\\\\SDG.pdf', 'page': 18, 'page_label': '19'}, page_content='and bringing developing countries more into the center of institutions \\nof global governance.'),\n",
       " Document(metadata={'source': 'F:\\\\Generative_AI\\\\Langchain Basic\\\\Lanchain_Basic\\\\Data\\\\SDG.pdf', 'page': 19, 'page_label': '20'}, page_content='STRENGTHEN THE MEANS OF \\nIMPLEMENTATION AND REVITALIZE THE \\nGLOBAL PARTNERSHIP FOR SUSTAINABLE \\nDEVELOPMENT \\nThe Sustainable Development Goals are pretty big to-do list, don’t you \\nthink? In fact, it’s so big, you may just want to throw your hands up in the \\nair. “Forget it! Can’t be done! Why even try!” But we’ve got a lot going for \\nus. The world is more interconnected today than ever before, thanks to \\nthe internet, travel and global institutions. There’s a growing consensus'),\n",
       " Document(metadata={'source': 'F:\\\\Generative_AI\\\\Langchain Basic\\\\Lanchain_Basic\\\\Data\\\\SDG.pdf', 'page': 19, 'page_label': '20'}, page_content='about the need to work together to stop climate change. And the \\nSustainable Development Goals are no small matter either. 193 countries \\nagreed on these goals. Pretty incredible, isn’t it? 193 countries agreeing \\non anything? The final goal lays out a way for nations to work together to \\nachieve all the other Goals.'),\n",
       " Document(metadata={'source': 'F:\\\\Generative_AI\\\\Langchain Basic\\\\Lanchain_Basic\\\\Data\\\\SDG.pdf', 'page': 20, 'page_label': '21'}, page_content='Go shopping \\nMake a donation \\nStart a fundraiser \\nSpread the word \\nVisit shop.undp.org for SDG merchandise, and show off the goals you’re \\nmost passionate about. \\nMoney doesn’t just make the world go around; it’s also the most direct \\nway to reduce and eradicate all forms of poverty.\\nFundraising is a great way to raise money, create awareness, and inspire \\nothers. Plus, it’s fun!\\nSearch for @UNDP on Twitter, Facebook and Instagram, and share the \\ncontent you love.'),\n",
       " Document(metadata={'source': 'F:\\\\Generative_AI\\\\Langchain Basic\\\\Lanchain_Basic\\\\Data\\\\SDG.pdf', 'page': 20, 'page_label': '21'}, page_content='content you love.\\nTo donate or learn more about fundraising, visit undp.org/takeaction\\nThere are many ways to show your support and help us reach \\nthe Sustainable Development Goals by 2030. Here are a few :\\nWHA T CAN  \\nI DO TO HELP?'),\n",
       " Document(metadata={'source': 'F:\\\\Generative_AI\\\\Langchain Basic\\\\Lanchain_Basic\\\\Data\\\\SDG.pdf', 'page': 21, 'page_label': '22'}, page_content='NOTES'),\n",
       " Document(metadata={'source': 'F:\\\\Generative_AI\\\\Langchain Basic\\\\Lanchain_Basic\\\\Data\\\\SDG.pdf', 'page': 22, 'page_label': '23'}, page_content='NOTES')]"
      ]
     },
     "execution_count": 29,
     "metadata": {},
     "output_type": "execute_result"
    }
   ],
   "source": [
    "doc_split"
   ]
  },
  {
   "cell_type": "code",
   "execution_count": 30,
   "metadata": {},
   "outputs": [
    {
     "data": {
      "text/plain": [
       "'Here’s a translation of your provided text into Hindi:\\n\\n---\\n\\n**2015 में, दुनिया के 193 देशों के नेताओं ने भविष्य का सामना करने के लिए एक साथ आए।**\\nऔर जो उन्होंने देखा वह चिंताजनक था। अकाल। सूखा। युद्ध। महामारियाँ। निर्धनता। \\nयह केवल किसी दूर के स्थान में नहीं, बल्कि उनके अपने शहरों, कस्बों और गाँवों में भी था। \\nउन्हें पता था कि चीजें ऐसी नहीं होनी चाहिए थीं। उन्हें पता था कि हमारे पास दुनिया को खिलाने के लिए पर्याप्त भोजन था, लेकिन यह साझा नहीं किया जा रहा था। उन्हें पता था कि एचआईवी और अन्य बीमारियों के लिए चिकित्सा थीं, लेकिन वे बहुत महंगी थीं। उन्हें पता था कि भूकंप और बाढ़ अपरिहार्य हैं, लेकिन उच्च मृत्यु दर नहीं होनी चाहिए थी।\\nउन्हें यह भी पता था कि दुनिया भर में अरबों लोग एक बेहतर भविष्य की आशा साझा करते हैं।\\nइसलिए, इन देशों के नेताओं ने एक योजना बनाई जिसे स्थायी विकास लक्ष्य (SDGs) कहा गया। इस 17 लक्ष्यों के सेट ने भविष्य की कल्पना की जो केवल 15 वर्ष दूर होगी, जिसमें गरीबी और भूख से मुक्ति और जलवायु परिवर्तन के सबसे बुरे प्रभावों से सुरक्षा होगी। यह एक महत्वाकाँक्षी योजना है।\\n\\nलेकिन यह साबित करने के लिए पर्याप्त सबूत हैं कि हम सफल हो सकते हैं। पिछले 15 वर्षों में, अंतरराष्ट्रीय समुदाय ने चरम गरीबी को आधा कर दिया। \\nअब हम काम को पूरा कर सकते हैं।\\nसंयुक्त राष्ट्र विकास कार्यक्रम (UNDP) 2030 तक SDGs को पूरा करने के लिए काम कर रही प्रमुख संगठनों में से एक है। लगभग 170 देशों और क्षेत्रों में उपस्थित, हम देशों को लक्ष्यों को वास्तविकता बनाने में मदद करते हैं। \\nहम लोगों को यह भी बताते हैं कि हर जगह लोग अपने हिस्से को कैसे कर सकते हैं।\\n\\n**SDGs के बारे में जानें। आपका लक्ष्य क्या है?**\\n\\n**2030 तक सभी रूपों में चरम गरीबी समाप्त करें।**\\nहाँ, यह एक महत्वाकाँक्षी लक्ष्य है - लेकिन हम विश्वास करते हैं कि इसे किया जा सकता है। 2000 में, दुनिया ने 2015 तक चरम गरीबी में रह रहे लोगों की संख्या आधी करने का वचन दिया और हमने इस लक्ष्य को पूरा किया। हालाँकि, दुनिया भर में 800 मिलियन से अधिक लोग अभी भी $1.25 प्रति दिन से कम पर जीते हैं - यह यूरोप की पूरी जनसंख्या के बराबर है जो चरम गरीबी में जी रही है। अब यह समय है कि हम जो कुछ भी हमने सीखा है, उस पर निर्माण करें और पूरी तरह से गरीबी समाप्त करें।\\n\\n**भूख समाप्त करें, खाद्य सुरक्षा प्राप्त करें और पोषण में सुधार करें और स्थायी कृषि को बढ़ावा दें।**\\nपिछले 20 वर्षों में, भूख लगभग आधी हो गई है। कई देश जो पहले अकाल और भूख का सामना कर रहे थे, अब अपने सबसे कमजोर लोगों की पोषण संबंधी आवश्यकताओं को पूरा कर सकते हैं। यह एक अद्भुत उपलब्धि है। अब हम आगे बढ़ सकते हैं और भूख और कुपोषण को एक बार और सभी के लिए समाप्त कर सकते हैं। इसका मतलब है स्थायी कृषि को बढ़ावा देना और छोटे किसानों का समर्थन करना। यह एक बड़ा काम है। लेकिन धरती पर हर 9 में से लगभग 1 व्यक्ति के लिए जो हर रात भूखा सोता है, हमें कोशिश करनी होगी। कल्पना कीजिए एक ऐसे दुनिया की जहाँ हर किसी के पास साल भर में पर्याप्त और पौष्टिक भोजन हो। एक साथ, हम इसे 2030 तक वास्तविकता बना सकते हैं।\\n\\n**स्वस्थ जीवन सुनिश्चित करें और सभी उम्र के लिए कल्याण को बढ़ावा दें।**\\nहम सभी जानते हैं कि स्वस्थ रहना कितना महत्वपूर्ण है। हमारी सेहत हर चीज पर असर डालती है, जैसे कि हम जीवन का कितना आनंद लेते हैं, और हम कितनी अच्छी तरह काम कर सकते हैं। यही कारण है कि हर किसी को स्वास्थ्य कवर और सुरक्षित और प्रभावी दवाओं और vaccines तक पहुँच सुनिश्चित करने के लिए एक लक्ष्य है। SDGs के पूर्व 25 वर्षों में, हमने बड़े कदम उठाए हैं - रोकने योग्य बच्चे की मौतें आधे से अधिक घट गई हैं, और मातृ मृत्यु दर भी लगभग इतनी ही कम हुई है। फिर भी, कुछ अन्य आंकड़े दुखद रूप से ऊँचे हैं, जैसे कि हर साल 6 मिलियन बच्चे अपने पाँचवे जन्मदिन से पहले मर जाते हैं, या एचआईवी दक्षिण सहेरीय अफ्रीका में किशोरों के लिए मौत का प्रमुख कारण है। हमारे पास इसे बदलने के साधन हैं और अच्छे स्वास्थ्य को सिर्फ एक इच्छा से भी अधिक बना सकते हैं।\\n\\n**समावेशी और समान गुणवत्ता की शिक्षा सुनिश्चित करें और सभी के लिए जीवनभर सीखने के अवसर बढ़ावा दें।**\\nपहले, शिक्षा पर बुरी खबर। गरीबी, सशस्त्र संघर्ष और अन्य आपात स्थितियाँ दुनिया भर में बहुत से बच्चों को स्कूल से बाहर रखती हैं। वास्तव में, गरीब परिवारों के बच्चे सबसे अमीर परिवारों के बच्चों की तुलना में स्कूल से बाहर होने की चार गुना अधिक संभावना रखते हैं। अब कुछ अच्छी खबर। 2000 के बाद से, दुनियाभर में सभी बच्चों को प्राथमिक शिक्षा प्रदान करने के लक्ष्य पर बहुत बड़ी प्रगति हुई है: विकासशील क्षेत्रों में कुल नामांकन दर 91% तक पहुँच गई है। किसी भी स्कूल के गरे में, यह एक अच्छा ग्रेड है। अब, चलिए सभी बच्चों के लिए और भी बेहतर ग्रेड प्राप्त करते हैं, और सार्वभौमिक प्राथमिक और माध्यमिक शिक्षा, सस्ती व्यावसायिक प्रशिक्षण, उच्च शिक्षा और अधिक तक पहुँच प्राप्त करने के लक्ष्य को पूरा करते हैं।\\n\\nहम दुनिया में प्रगति का जश्न मना सकते हैं जो अधिक समृद्ध और न्यायपूर्ण बनती जा रही है। लेकिन उत्सव का एक साया है। लगभग हर तरह से, महिलाएँ और लड़कियाँ पीछे रह जाती हैं। कार्य और वेतन में अभी भी गंभीर असमानताएँ हैं, बहुत सा बिना भुगतान वाली \"महिलाओं की काम\" जैसे कि बच्चे की देखभाल और घरेलू काम, और सार्वजनिक निर्णय लेने में भेदभाव। लेकिन आशा की संभावनाएँ हैं। अब पहले की तुलना में अधिक लड़कियाँ स्कूल में हैं। अधिकांश क्षेत्रों में प्राथमिक शिक्षा में लिंग समानता प्राप्त हो चुकी है। महिलाओं की उनके काम के लिए भुगतान प्राप्त करने का प्रतिशत बढ़ रहा है। स्थायी विकास लक्ष्यों का उद्देश्य इन उपलब्धियों पर निर्माण करना है ताकि कहीं पर भी महिलाओं और लड़कियों के खिलाफ भेदभाव समाप्त हो सके।\\n\\n**लिंग समानता प्राप्त करें और सभी महिलाओं और लड़कियों को सशक्त बनाएं।**\\n\\nधरती पर सभी को सुरक्षित और सस्ती पीने के पानी की पहुँच होनी चाहिए। यही 2030 के लिए लक्ष्य है। जबकि कई लोग स्वच्छ पीने के पानी और स्वच्छता को सामान्य मानते हैं, लेकिन कई अन्य नहीं। जल संकट दुनिया भर में 40 प्रतिशत से अधिक लोगों को प्रभावित करता है, और यह संख्या जलवायु परिवर्तन के परिणामस्वरूप और भी बढ़ने की संभावना है। यदि हम उसी रास्ते पर चलते रहे, तो 2050 तक कम से कम एक चौथाई लोग बार-बार जल कमी का सामना करने की संभावना रखेंगे। लेकिन हम एक नया रास्ता अपनाने के लिए तैयार हैं - अधिक अंतरराष्ट्रीय सहयोग, जल- संरक्षण और नदियों की सुरक्षा, जल-प्रक्रिया प्रौद्योगिकियों को साझा करना - जो इस लक्ष्य को हासिल करने की दिशा में ले जाता है।\\n\\n**सभी के लिए जल और स्वच्छता की उपलब्धता और सतत प्रबंधन सुनिश्चित करें।**\\n\\n**सभी के लिए सस्ती, विश्वसनीय, सतत और आधुनिक ऊर्जा की पहुँच सुनिश्चित करें।**\\n1990 से 2010 के बीच, बिजली की पहुँच वाले लोगों की संख्या 1.7 अरब बढ़ी। यह गर्व करने वाली प्रगति है। फिर भी, क्योंकि दुनिया की जनसंख्या लगातार बढ़ रही है, और अधिक लोगों को अपने घरों और सड़कों को रोशन करने, फोन और कंप्यूटर का उपयोग करने, और अपने दैनिक व्यवसाय करने के लिए सस्ती ऊर्जा की आवश्यकता होगी। ऊर्जा प्राप्त करने के तरीके पर सवाल है; जीवाश्म ईंधन और ग्रीनहाउस गैसों का उत्सर्जन जलवायु में नाटकीय परिवर्तन ला रहा है, जिससे हर महाद्वीप पर बड़ी समस्याएँ उत्पन्न हो रही हैं। इसके बजाय, हम अधिक ऊर्जा-कुशल बन सकते हैं और सौर और पवन जैसी स्वच्छ ऊर्जा स्रोतों में निवेश कर सकते हैं। इस तरह, हम बिजली की आवश्यकताओं को पूरा करेंगे और वातावरण की सुरक्षा करेंगे। यह संतुलन बनाने का एक शानदार तरीका है।\\n\\n**स्थायी, समावेशी और सतत आर्थिक विकास को बढ़ावा दें, सभी के लिए पूर्ण और उत्पादक रोजगार और उचित काम।**\\nआर्थिक विकास का एक महत्वपूर्ण हिस्सा यह है कि लोगों के पास अपनी और अपने परिवारों का भरण-पोषण करने के लिए पर्याप्त वेतन वाली नौकरियाँ हों। अच्छी खबर यह है कि मध्यम वर्ग दुनिया भर में बढ़ रहा है - पिछले 25 वर्षों में, विकासशील देशों में तीन गुना से अधिक विस्तार हुआ है, जो जनसंख्या के एक-तिहाई से अधिक हो गया है। लेकिन आज, नौकरी सृजन बढ़ती हुई श्रमिक शक्ति के साथ तालमेल नहीं बिठा रहा है। यह ऐसा नहीं होना चाहिए। हम नीतियों को बढ़ावा दे सकते हैं जो उद्यमिता और नौकरी निर्माण को प्रोत्साहित करती हैं। हम बलात्कारी श्रम, गुलामी और मानव व्यापार का उन्मूलन कर सकते हैं। और अंत में, हम 2030 तक सभी महिलाओं और पुरुषों के लिए उचित काम का लक्ष्य प्राप्त कर सकते हैं।\\n\\n**लचीली अवसंरचना का निर्माण करें, समावेशी और सतत औद्योगीकरण को बढ़ावा दें और नवोन्मेष को प्रोत्साहित करें।**\\nप्रौद्योगिकी की प्रगति हमें बड़ी वैश्विक चुनौतियों जैसे नौकरियों का निर्माण करने और अधिक ऊर्जा-कुशल बनने में मदद करती है। उदाहरण के लिए, इंटरनेट के कारण दुनिया आपस में अधिक जुड़ गई है और समृद्ध होती जा रही है। जब हम अधिक जुड़े होते हैं, तो हम सभी दुनिया भर में लोगों की बुद्धि और योगदान से लाभ उठा सकते हैं। फिर भी, चार अरब लोग ऑनलाइन आने का कोई साधन नहीं रखते हैं, जिसमें से अधिकांश विकासशील देशों में हैं। जितना अधिक हम नवोन्मेष और अवसंरचना में निवेश करेंगे, उतना ही हम सभी बेहतर होंगे। डिजिटल विभाजन को पाटना, स्थायी उद्योगों को बढ़ावा देना, और वैज्ञानिक शोध और नवोन्मेष में निवेश करना सभी सतत विकास को सुविधाजनक बनाने के महत्वपूर्ण तरीके हैं।\\n\\n**देशों के भीतर और देशों के बीच असमानता को कम करें।**\\nयह एक पुरानी कहानी है: अमीर और अमीर होते जा रहे हैं, और गरीब और गरीब। यह खाई कभी इतनी स्पष्ट नहीं रही। हमें ऐसे नीतियों को अपनाने की आवश्यकता है जो सभी के लिए अवसर उत्पन्न करें, चाहे वह कोई भी हो या वह कहाँ से आ रहा हो। आय में असमानता एक वैश्विक समस्या है जिसे वैश्विक समाधानों की आवश्यकता है। इसका मतलब है वित्तीय बाजारों और संस्थानों के विनियमन में सुधार करना, विकास सहायता को उन स्थानों पर भेजना जहाँ इसकी सबसे अधिक आवश्यकता है और लोगों को सुरक्षित रूप से प्रवास करने में मदद करना ताकि वे अवसरों का पीछा कर सकें। हम एक साथ, अब असमानता की पुरानी कहानी की दिशा बदल सकते हैं।\\n\\n**शहरों और मानव बस्तियों को समावेशी, सुरक्षित, लचीला और सतत बनाएं।**\\nअगर आप अधिकांश लोगों की तरह हैं, तो आप एक शहर में रहते हैं। दुनिया की आधी जनसंख्या अब शहरों में निवास करती है, और यह संख्या 2050 तक लगभग दो-तिहाई मानवता तक पहुँच जाएगी। शहर बड़े हो रहे हैं। 1990 में 10 \"मेगा-शहर\" थे जिनकी जनसंख्या 10 मिलियन या उससे अधिक थी। 2014 में, 28 मेगा-शहर थे, जिनकी जनसंख्या 453 मिलियन थी। अद्भुत है, है ना? बहुत से लोग शहरों को पसंद करते हैं; वे संस्कृति, व्यापार और जीवन के केंद्र हैं। समस्या यह है कि वे अक्सर चरम गरीबी के केंद्र भी होते हैं। सभी के लिए स्थायी शहर बनाने के लिए, हम अच्छी, सस्ती सार्वजनिक आवास का निर्माण कर सकते हैं। हम झुग्गी बस्तियों को सुधार सकते हैं। हम सार्वजनिक परिवहन में निवेश कर सकते हैं, हरे स्थान बना सकते हैं और शहरी योजना में विस्तृत स्तर पर लोगों को शामिल कर सकते हैं। इस तरह, हम शहरों के उन विशेषताओं को बरकरार रख सकते हैं जिन्हें हम पसंद करते हैं, और उन चीजों को बदल सकते हैं जो हमें पसंद नहीं हैं।\\n\\n**सतत उपभोग और उत्पादन के पैटर्न सुनिश्चित करें।**\\nकुछ लोग बहुत सी चीजों का उपयोग करते हैं, और कुछ लोग बहुत कम उपयोग करते हैं - वास्तव में, विश्व जनसंख्या का एक बड़ा हिस्सा अपनी बुनियादी जरूरतों को पूरा करने के लिए भी बहुत कम उपभोग कर रहा है। इसके बजाय, हम एक ऐसी दुनिया की कल्पना कर सकते हैं जहाँ सभी को जीवित रहने और फलने-फूलने के लिए आवश्यक चीजें मिलें। और हम इस तरह से उपभोग कर सकते हैं जो हमारे प्राकृतिक संसाधनों की सुरक्षा करे ताकि हमारे बच्चे और उनके बच्चे भी इसका आनंद ले सकें। कठिनाई यह है कि हम इस लक्ष्य को कैसे प्राप्त कर सकते हैं। हम अपने प्राकृतिक संसाधनों का प्रबंधन अधिक प्रभावी ढंग से कर सकते हैं और विषाक्त अपशिष्ट को बेहतर तरीके से निपटा सकते हैं। वैश्विक स्तर पर प्रति व्यक्ति खाद्य अपशिष्ट को आधा करें। व्यापारिकों और उपभोक्ताओं को अपशिष्ट को कम करने और पुनर्नवीनीकरण के लिए प्रेरित करें। और उन देशों की मदद करें जिनका सामान्यतः उपभोग कम रहा है, ताकि वे अधिक जिम्मेदार उपभोग पैटर्न की ओर बढ़ सकें।\\n\\n**जलवायु परिवर्तन और इसके प्रभावों से मुकाबला करने के लिए तात्कालिक कार्रवाई करें।**\\nदुनिया के हर देश ने जलवायु परिवर्तन के गहरे प्रभावों को अनुभव किया है, कुछ दूसरे से अधिक। औसतन, केवल भूकंप, सुनामी, उष्णकटिबंधीय उष्णकटिबंधीय चक्रवातों और बाढ़ से होने वाले वार्षिक नुकसान अरबों डॉलर में है। हम अधिक कमजोर क्षेत्रों को - जैसे भूमि-लॉक वाले देश और द्वीप राज्य - अधिक लचीला बनाने में मदद करके जीवन और संपत्ति की हानि को कम कर सकते हैं। यह अभी भी संभव है, राजनीतिक इच्छाशक्ति और तकनीकी उपायों के साथ, वैश्विक औसत तापमान में वृद्धि को पूर्व-औद्योगिक स्तरों के मुकाबले दो डिग्री सेल्सियस तक सीमित करना - और इस प्रकार जलवायु परिवर्तन के सबसे बुरे प्रभावों से बचना। स्थायी विकास लक्ष्य देशों को इस तात्कालिक चुनौती का सामना करने के लिए मिलकर काम करने का तरीका प्रदान करते हैं।\\n\\n**सागरीय, समुद्री और समुद्री संसाधनों का संरक्षण और सतत उपभोग विकास के लिए करें।**\\nसागरीय जीवन मनुष्य के जीवन को संभव बनाता है। इसका तापमान, इसकी रसायन, इसके धाराएँ, इसकी जीवन की विविधता। एक मामला है, 3 अरब से अधिक लोग समुद्री और तटीय विविधता पर निर्भर करते हैं। लेकिन आज, दुनिया के लगभग एक तिहाई मछली संसाधन अधिक उपयोग में हैं। यह जीवन जीने का एक स्थायी तरीका नहीं है। यहाँ तक कि जो लोग समुद्र से दूर रहते हैं, वे इसके बिना जी नहीं सकते। महासागरों का मानव निर्मित कार्बन डाइऑक्साइड में लगभग 30 प्रतिशत अवशोषित करता है; लेकिन हम पहले से कहीं अधिक कार्बन डाइऑक्साइड का उत्पादन कर रहे हैं और यह महासागरों को अधिक विलक्षण बना रहा है - औद्योगिक क्रांति के आरंभ से 26% अधिक। हमारा कूड़ा भी मदद नहीं कर रहा है - हर वर्ग किलोमीटर समुद्र में 13,000 प्लास्टिक के टुकड़े हैं। सुनने में यह बुरा लगता है, है ना? निराश न हों! स्थायी विकास लक्ष्य समुद्र के नीचे जीवन को प्रबंधित करने और संरक्षण के लिए लक्ष्य निर्धारित करते हैं।\\n\\n**पारिस्थितिकी प्रणालियों को संरक्षित करें, बहाल करें और सतत उपयोग को बढ़ावा दें, वनों का स्थायी प्रबंधन करें, मरुस्थलीकरण से निपटें और भूमि के विकृति को रोकें तथा जैव विविधता के नुकसान को रोकें।**\\nमनुष्य और अन्य जानवर खाद्य, स्वच्छ वायु, स्वच्छ जल और जलवायु परिवर्तन से मुकाबला करने के लिए भूमि पर अन्य जीवन के रूपों पर निर्भर करते हैं। पौधों का जीवन मानव आहार का 80% बनाता है। जंगल, जो पृथ्वी की सतह का 30% ढकते हैं, हवा और पानी को साफ रखते हैं और पृथ्वी के जलवायु को संतुलित करते हैं। यह तो छोड़िए कि वे लाखों पशु प्रजातियों का निवास स्थान हैं। लेकिन भूमि और उस पर जीवन को खतरा है। खेती योग्य भूमि ऐतिहासिक रूप से 30 से 35 गुना तेज दर से गायब हो रही है। रेगिस्तान फैलते जा रहे हैं। जीवों की प्रजातियाँ लुप्त हो रही हैं। हम इन प्रवृत्तियों को मोड़ सकते हैं। सौभाग्य से, स्थायी विकास लक्ष्य 2030 तक जंगलों, आर्द्रभूमियों, सूखे क्षेत्रों और पहाड़ों जैसी पारिस्थितिकी प्रणालियों के संरक्षण और बहाली का उद्देश्य रखते हैं।\\n\\n**सतत विकास के लिए शांतिपूर्ण और समावेशी समाजों का निर्माण करें, सभी के लिए न्याय का अभिगम प्रदान करें और सभी स्तरों पर प्रभावी, उत्तरदायी और समावेशी संस्थानों का निर्माण करें।**\\nएक देश कैसे विकसित हो सकता है - लोग खाते हैं, सिखाते हैं, सीखते हैं, काम करते हैं और परिवार बसाते हैं - बिना शांति के? और एक देश में शांति कैसे हो सकती है बिना न्याय के, बिना मानव अधिकारों के, बिना कानून के शासन के? दुनिया के कुछ हिस्सों में सापेक्ष शांति और न्याय है, और वे शायद इसे सामान्य मान लेते हैं। अन्य हिस्से सशस्त्र संघर्ष, अपराध, यातनाओं और शोषण की समस्याओं से जूझ रहे हैं, जो विकास में रुकावट डालते हैं। शांति और न्याय का लक्ष्य सभी देशों के लिए प्रयास करने का है। स्थायी विकास लक्ष्य सभी प्रकार के हिंसा को कम करने का उद्देश्य रखते हैं और प्रस्तावित करते हैं कि सरकार और समुदाय संघर्ष और असुरक्षा के लिए स्थायी समाधान खोजें। इसका मतलब है कानून के शासन को मजबूत करना, अवैध हथियारों के प्रवाह को कम करना और विकासशील देशों को वैश्विक शासन संस्थानों के केन्द्र में लाना।\\n\\n**संम्पत्ति के कार्यकलापों को मजबूत करें और स्थायी विकास के लिए वैश्विक साझेदारी को पुनर्जीवित करें।**\\nस्थायी विकास लक्ष्य एक बड़ा कार्य सूची है, क्या आपको नहीं लगता? वास्तव में, यह इतना बड़ा है कि आप इसे देखकर अपने हाथों को उठाना चाह सकते हैं। \"छोड़ दो! किया नहीं जा सकता! कोशिश क्यों करें!\" लेकिन हमारे पास बहुत कुछ है। आज दुनिया पहले से कहीं अधिक अंतरकम्पन दार है, इंटरनेट, यात्रा और वैश्विक संस्थानों के धन्यवाद। जलवायु परिवर्तन को रोकने के लिए एक साथ काम करने की आवश्यकता पर एक बढ़ती सहमति है। और स्थायी विकास लक्ष्य भी कोई छोटी बात नहीं हैं। 193 देशों ने इन लक्ष्यों पर सहमति व्यक्त की। क्या यह आश्चर्यजनक नहीं है? 193 देशों ने किसी भी बात पर सहमति व्यक्त की? अंतिम लक्ष्य देशों को बाकी सभी लक्ष्यों को हासिल करने के लिए मिलकर काम करने का तरीका प्रस्तुत करता है।\\n\\n**बात करें, दान करें, एक फंडरेजर शुरू करें, शब्द फैलाएं।**\\nSDG सामान के लिए shop.undp.org पर जाएँ, और अपने पसंदीदा लक्ष्यों को दिखाएं। \\nपैसा केवल दुनिया को चलाने का अनिवार्य तत्व नहीं है; यह सभी प्रकार की गरीबी को कम करने और खत्म करने का सबसे प्रत्यक्ष उपाय भी है।\\nफंडरेज़िंग पैसे जुटाने, जागरूकता लाने और दूसरों को प्रेरित करने का सबसे अच्छा तरीका है। इसके अलावा, यह मजेदार है!\\nTwitter, Facebook और Instagram पर @UNDP को खोजें, और उस सामग्री को साझा करें जो आपको पसंद है।\\n\\n**आप समर्थन दिखाने और हमें 2030 तक स्थायी विकास लक्ष्यों को प्राप्त करने में मदद करने के कई तरीके हैं। यहाँ कुछ हैं:**\\n\\n**मैं सहायता के लिए क्या कर सकता हूँ?**\\n\\n---\\n\\nआशा है कि यह अनुवाद आपकी आवश्यकताओं को पूरा करता है!'"
      ]
     },
     "execution_count": 30,
     "metadata": {},
     "output_type": "execute_result"
    }
   ],
   "source": [
    "chain.invoke({\"context\":doc_split})"
   ]
  },
  {
   "cell_type": "markdown",
   "metadata": {},
   "source": [
    "### Vector Embedding and Vector Datastore"
   ]
  },
  {
   "cell_type": "code",
   "execution_count": 33,
   "metadata": {},
   "outputs": [],
   "source": [
    "from langchain_openai import OpenAIEmbeddings\n",
    "from langchain_community.vectorstores import FAISS"
   ]
  },
  {
   "cell_type": "code",
   "execution_count": 32,
   "metadata": {},
   "outputs": [],
   "source": [
    "embedding=OpenAIEmbeddings()"
   ]
  },
  {
   "cell_type": "code",
   "execution_count": 34,
   "metadata": {},
   "outputs": [],
   "source": [
    "vector_db=FAISS.from_documents(doc_split,embedding)"
   ]
  },
  {
   "cell_type": "code",
   "execution_count": 35,
   "metadata": {},
   "outputs": [
    {
     "data": {
      "text/plain": [
       "[(Document(id='8856599c-b7df-4a48-a1e5-8c5ff8582456', metadata={'source': 'F:\\\\Generative_AI\\\\Langchain Basic\\\\Lanchain_Basic\\\\Data\\\\SDG.pdf', 'page': 2, 'page_label': '3'}, page_content='IN THE YEAR 2015, LEADERS FROM 193 COUNTRIES OF THE WORLD \\nCAME TOGETHER TO FACE THE FUTURE.\\nAnd what they saw was daunting. Famines. Drought. Wars. Plagues. Poverty. \\nNot just in some faraway place, but in their own cities and towns and villages.\\nThey knew things didn’t have to be this way. They knew we had enough \\nfood to feed the world, but that it wasn’t getting shared. They knew there \\nwere medicines for HIV and other diseases, but they cost a lot. They knew'),\n",
       "  0.17173365),\n",
       " (Document(id='18384df2-36a0-43ad-bb6c-98acf68223fa', metadata={'source': 'F:\\\\Generative_AI\\\\Langchain Basic\\\\Lanchain_Basic\\\\Data\\\\SDG.pdf', 'page': 2, 'page_label': '3'}, page_content='that earthquakes and floods were inevitable, but that the high death \\ntolls were not. \\nThey also knew that billions of people worldwide shared their hope for a \\nbetter future.\\nSo leaders from these countries created a plan called the Sustainable \\nDevelopment Goals (SDGs). This set of 17 goals imagines a future just 15 years \\noff that would be rid of poverty and hunger, and safe from the worst effects of \\nclimate change. It’s an ambitious plan.'),\n",
       "  0.29438868),\n",
       " (Document(id='9e102ff2-8da2-453b-9393-202ca4de778a', metadata={'source': 'F:\\\\Generative_AI\\\\Langchain Basic\\\\Lanchain_Basic\\\\Data\\\\SDG.pdf', 'page': 19, 'page_label': '20'}, page_content='about the need to work together to stop climate change. And the \\nSustainable Development Goals are no small matter either. 193 countries \\nagreed on these goals. Pretty incredible, isn’t it? 193 countries agreeing \\non anything? The final goal lays out a way for nations to work together to \\nachieve all the other Goals.'),\n",
       "  0.3130858)]"
      ]
     },
     "execution_count": 35,
     "metadata": {},
     "output_type": "execute_result"
    }
   ],
   "source": [
    "query=\"IN THE YEAR 2015, LEADERS FROM 193 COUNTRIES OF THE WORLD \\nCAME TOGETHER TO FACE THE FUTURE.\\nAnd what they saw was daunting.\"\n",
    "vector_db.similarity_search_with_score(query,k=3)"
   ]
  },
  {
   "cell_type": "markdown",
   "metadata": {},
   "source": [
    "### Retriver Chain"
   ]
  },
  {
   "cell_type": "markdown",
   "metadata": {},
   "source": []
  }
 ],
 "metadata": {
  "kernelspec": {
   "display_name": "Python 3",
   "language": "python",
   "name": "python3"
  },
  "language_info": {
   "codemirror_mode": {
    "name": "ipython",
    "version": 3
   },
   "file_extension": ".py",
   "mimetype": "text/x-python",
   "name": "python",
   "nbconvert_exporter": "python",
   "pygments_lexer": "ipython3",
   "version": "3.10.0"
  }
 },
 "nbformat": 4,
 "nbformat_minor": 2
}
